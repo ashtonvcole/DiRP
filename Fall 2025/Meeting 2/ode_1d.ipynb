{
 "cells": [
  {
   "cell_type": "markdown",
   "id": "5550dbc4-7cfb-4f67-94f6-81694f4c4581",
   "metadata": {},
   "source": [
    "# Ordinary Differential Equations in 1D\n",
    "\n",
    "## Import Statements"
   ]
  },
  {
   "cell_type": "code",
   "execution_count": 1,
   "id": "41af8050-0288-4bac-adfb-82ef528a0127",
   "metadata": {},
   "outputs": [],
   "source": [
    "import numpy as np\n",
    "from matplotlib import pyplot as plt"
   ]
  },
  {
   "cell_type": "markdown",
   "id": "12de7f11-3746-4a41-9368-5de16fa0f4aa",
   "metadata": {},
   "source": [
    "## Introducing the Model Equation"
   ]
  },
  {
   "cell_type": "code",
   "execution_count": null,
   "id": "9d540394-b152-488e-902d-dc295d4a6ac1",
   "metadata": {},
   "outputs": [],
   "source": []
  },
  {
   "cell_type": "markdown",
   "id": "335f8448-d90a-49ef-b267-4e4aae93332c",
   "metadata": {},
   "source": [
    "## Stability\n",
    "\n",
    "Stability refers to whethter a particular methoud causes the approximate solution to blow up to unrealistically large values. Often a certain range for cobinations of the problem parameters and simulation discretizations has to be satisfied. In fluid mechanics, a common one is the Courant number, which describes how many cells a signal travels across in one time step. In general, and somewhat intuitively, it should be less than 1, but the basis for such rules is in mathematics."
   ]
  },
  {
   "cell_type": "markdown",
   "id": "e2cc8409-5c02-42eb-ab9d-fdf72e1d279a",
   "metadata": {},
   "source": [
    "## Accuracy\n",
    "\n",
    "Accuracy refers to how far off your approximate solution is from the true solution. Of particular interest is how fast the solution converges by improving discretization. Some methods give y"
   ]
  },
  {
   "cell_type": "code",
   "execution_count": null,
   "id": "35e46c1b-c954-466c-b1e3-dd1a95fbcca5",
   "metadata": {},
   "outputs": [],
   "source": []
  }
 ],
 "metadata": {
  "kernelspec": {
   "display_name": "dirp-env",
   "language": "python",
   "name": "dirp-env"
  },
  "language_info": {
   "codemirror_mode": {
    "name": "ipython",
    "version": 3
   },
   "file_extension": ".py",
   "mimetype": "text/x-python",
   "name": "python",
   "nbconvert_exporter": "python",
   "pygments_lexer": "ipython3",
   "version": "3.13.7"
  }
 },
 "nbformat": 4,
 "nbformat_minor": 5
}
