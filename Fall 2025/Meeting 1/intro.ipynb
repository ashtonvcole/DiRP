{
 "cells": [
  {
   "cell_type": "markdown",
   "id": "c88fb018-ea0c-46bc-96dd-5d32f02f786f",
   "metadata": {},
   "source": [
    "# Introduction to Jupyter and Python"
   ]
  },
  {
   "cell_type": "code",
   "execution_count": null,
   "id": "e79269cc-4513-430e-8de1-e174a6cc5aec",
   "metadata": {},
   "outputs": [],
   "source": [
    "# This is a cell\n",
    "# Each cell contains a block of Python code\n",
    "# Each cell can be executed independently in whatever order you like\n",
    "# This is great for \"interactive computing\"\n",
    "# But you need to be careful to keep your code reproducible\n",
    "# The number in brackets on the left helps you keep track"
   ]
  },
  {
   "cell_type": "code",
   "execution_count": null,
   "id": "545d646e-c9a0-486b-950c-bdca0de74d3e",
   "metadata": {},
   "outputs": [],
   "source": [
    "print(x)"
   ]
  },
  {
   "cell_type": "code",
   "execution_count": null,
   "id": "4820bf5f-186b-493a-9533-46f80fd8e775",
   "metadata": {},
   "outputs": [],
   "source": [
    "x = 3"
   ]
  },
  {
   "cell_type": "markdown",
   "id": "197ed09c-891b-4637-b562-d854db6b49fa",
   "metadata": {},
   "source": [
    "## Functions\n",
    "\n",
    "A function, or subroutine, contains code that you would like to execute repeatedly. The old way of doing this was with carefully constructed if and goto statements.\n",
    "\n",
    "Here's a function explaining addition."
   ]
  },
  {
   "cell_type": "code",
   "execution_count": null,
   "id": "205c05ed-6f04-42c4-9a3d-eaba7986c3ee",
   "metadata": {},
   "outputs": [],
   "source": [
    "def sum(x: int, y: int):\n",
    "    print('This is an addition function.\\n')\n",
    "    print(f'{x} + {y} = {???}')"
   ]
  },
  {
   "cell_type": "code",
   "execution_count": null,
   "id": "16c40c49-8aa3-4833-9bbc-038dd24a3214",
   "metadata": {},
   "outputs": [],
   "source": [
    "sum(1, 2)"
   ]
  },
  {
   "cell_type": "markdown",
   "id": "47d8b1e8-29b7-4eff-a96f-bb419b951d41",
   "metadata": {},
   "source": [
    "## Conditionals\n",
    "\n",
    "Sometimes in a program, you want to do different things depending on the situation.\n",
    "\n",
    "- `if` my grade is above 97, I get an A+.\n",
    "- `elif` my grade is between 90 and 96, I get an A.\n",
    "- `else` my parents are...not happy."
   ]
  },
  {
   "cell_type": "code",
   "execution_count": null,
   "id": "951e14ca-e673-485e-9082-d67f8048a3d7",
   "metadata": {},
   "outputs": [],
   "source": [
    "def get_grade(g: int) -> str:\n",
    "    # ???\n",
    "    pass"
   ]
  },
  {
   "cell_type": "markdown",
   "id": "2297bdc1-7737-4ab8-b2af-a3dcb94cdc93",
   "metadata": {},
   "source": [
    "## Loops\n",
    "\n",
    "If you want to do something repeatedly, a loop may be your friend. There are two kinds of loops in Python, a `for` loop, where each iteration is associated with a value of a variable, and a `while` loop, where the code iterates until a condition is met. Both are useful in my field."
   ]
  },
  {
   "cell_type": "code",
   "execution_count": null,
   "id": "b1b319bd-a377-4619-b359-4a8bc19beba2",
   "metadata": {},
   "outputs": [],
   "source": [
    "grades = [101, 99, 47, 93, 88, 46]\n",
    "\n",
    "for i in range(0, len(grades)):\n",
    "    print(get_grade(grades[i]))\n",
    "    print(f'Grade {grades[i]} checked.\\n')"
   ]
  },
  {
   "cell_type": "code",
   "execution_count": null,
   "id": "761fe5e4-e64b-4051-9bdd-6c9547c98f80",
   "metadata": {},
   "outputs": [],
   "source": [
    "# Now do the same with a for each loop\n",
    "# And practice some break and continue statements\n",
    "# If you get something over 100, continue to the next iteration\n",
    "# If you get something under 50, break out of the loop\n",
    "for grade in grades:\n",
    "    # ???\n",
    "    pass"
   ]
  },
  {
   "cell_type": "code",
   "execution_count": null,
   "id": "905a3bb7-a064-4f59-bc3f-11b3b8930da1",
   "metadata": {},
   "outputs": [],
   "source": [
    "# Now try implementing it with a while loop"
   ]
  },
  {
   "cell_type": "markdown",
   "id": "93b46beb-0e90-472c-904e-ab442bbd2cdc",
   "metadata": {},
   "source": [
    "## Modules\n",
    "\n",
    "To make your life easier, code can be split into multiple files. You have to tell Python, then, to `import` the code you need.\n",
    "\n",
    "Go write a file `hydraulics.py` and write a function `speed(h: float, lambda: float) -> float` that tells you the speed of a wave on the ocean as a function of wavelength $\\lambda$ and water depth $h$. It should have a conditional structure referring to three other subroutines, described below.\n",
    "\n",
    "The full equation is\n",
    "\n",
    "$$\n",
    "v = \\sqrt{\\frac{g \\lambda}{2 \\pi} \\tanh \\left( 2 \\pi \\frac{h}{\\lambda} \\right)}\n",
    "$$\n",
    "\n",
    "but for deep water roughly $d > \\frac{\\lambda}{2}$, one can approximate it as a function of wavelength\n",
    "\n",
    "$$\n",
    "v \\approx \\sqrt{\\frac{g \\lambda}{2 \\pi}}\n",
    "$$\n",
    "\n",
    "and for shallow water roughly $d < \\frac{\\lambda}{20}$, one can approximate it as a function of depth\n",
    "\n",
    "$$\n",
    "v \\approx \\sqrt{gh}\n",
    "$$\n",
    "\n",
    "Hmm, we might revisit this when we build our Shallow Water Equations simulation..."
   ]
  },
  {
   "cell_type": "code",
   "execution_count": null,
   "id": "7e91b8ec-bf14-455d-8530-2976906eaf81",
   "metadata": {},
   "outputs": [],
   "source": [
    "from hydraulics import speed # Only import what we need\n",
    "# Test it out"
   ]
  },
  {
   "cell_type": "markdown",
   "id": "721cf8c2-0e25-442a-ba00-4085b40c44ff",
   "metadata": {},
   "source": [
    "## Plotting\n",
    "\n",
    "Visualization is a powerful, perhaps underappreciated, tool for working with any sort of data. Reading literature, I've seen people compare methods using 4x6 tables of simulation snapshots spanning pages and pages. Then they show scatter plots from the same 24 snapshots that are practically illegible. And then they do it again for other cases. Ain't nobody got time for that. When working with high-dimensional data, you should really think: what is the most important information you want to convey? Error, perhaps? Regions of poor performance? There are better ways to skin that cat.\n",
    "\n",
    "Let's try plotting our approximations against the real deal. Is it reasonable?"
   ]
  },
  {
   "cell_type": "code",
   "execution_count": null,
   "id": "874cacce-7777-425b-b6df-847526683b11",
   "metadata": {},
   "outputs": [],
   "source": [
    "import numpy as np\n",
    "from matplotlib import pyplot as plt"
   ]
  },
  {
   "cell_type": "code",
   "execution_count": null,
   "id": "6b4b3682-0a9b-4839-b465-1f9c1b4bf1c0",
   "metadata": {},
   "outputs": [],
   "source": []
  }
 ],
 "metadata": {
  "kernelspec": {
   "display_name": "dirp-env",
   "language": "python",
   "name": "dirp-env"
  },
  "language_info": {
   "codemirror_mode": {
    "name": "ipython",
    "version": 3
   },
   "file_extension": ".py",
   "mimetype": "text/x-python",
   "name": "python",
   "nbconvert_exporter": "python",
   "pygments_lexer": "ipython3",
   "version": "3.13.5"
  }
 },
 "nbformat": 4,
 "nbformat_minor": 5
}
