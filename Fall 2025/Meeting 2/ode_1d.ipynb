{
 "cells": [
  {
   "cell_type": "markdown",
   "id": "5550dbc4-7cfb-4f67-94f6-81694f4c4581",
   "metadata": {},
   "source": [
    "# Ordinary Differential Equations in 1D\n",
    "\n",
    "## Import Statements"
   ]
  },
  {
   "cell_type": "code",
   "execution_count": null,
   "id": "41af8050-0288-4bac-adfb-82ef528a0127",
   "metadata": {},
   "outputs": [],
   "source": [
    "from IPython.display import display\n",
    "import ipywidgets as widgets\n",
    "import numpy as np\n",
    "from matplotlib import pyplot as plt"
   ]
  },
  {
   "cell_type": "markdown",
   "id": "12de7f11-3746-4a41-9368-5de16fa0f4aa",
   "metadata": {},
   "source": [
    "## Introducing the Model Equation\n",
    "\n",
    "In the world of computational science, researchers often start with simpler models to understand underlying behaviors and test numerical schemes. For ODEs, one of the simplest possible systems is single-variable exponential decay.\n",
    "\n",
    "$$\n",
    "\\begin{align}\n",
    "\\frac{\\mathrm{d} u}{\\mathrm{d} t} &= f(u, t) = - \\alpha u \\\\\n",
    "u(0) &= u_{0} \\\\\n",
    "\\alpha &\\geq 0\n",
    "\\end{align}\n",
    "$$\n",
    "\n",
    "- This is an autonomous system, since the derivative doesn't depend on time. If $u(t)$ is a solution, so is $u(t - t_{0})$.\n",
    "- The solution is known exactly, $u(t) = u_{0} e^{-\\alpha t}$. This is helpful for error analysis.\n",
    "- Since the analytical solution should decay smoothly and asymptotically towards 0, it is easy to spot bad behaviors."
   ]
  },
  {
   "cell_type": "code",
   "execution_count": null,
   "id": "56cc4e83-5b2e-4d14-868f-ed22e51ac253",
   "metadata": {},
   "outputs": [],
   "source": [
    "# IVP constraints\n",
    "alpha = 1\n",
    "u0 = 1"
   ]
  },
  {
   "cell_type": "code",
   "execution_count": null,
   "id": "9d540394-b152-488e-902d-dc295d4a6ac1",
   "metadata": {},
   "outputs": [],
   "source": [
    "# Differential equation\n",
    "f = np.vectorize(lambda (u, t): -alpha * u)"
   ]
  },
  {
   "cell_type": "markdown",
   "id": "535989eb-1ec0-45e6-97a4-9e29305fb8c7",
   "metadata": {},
   "source": [
    "## Solution Methods\n",
    "\n",
    "Implement the forward and backward Euler methods. You have probably seen these in"
   ]
  },
  {
   "cell_type": "code",
   "execution_count": null,
   "id": "0df151a5-7f34-4d69-82f8-13ea263b0d9c",
   "metadata": {},
   "outputs": [],
   "source": [
    "# Implement forward Euler method\n",
    "def forward_euler(f, tspan: tuple, x0, dt: float):\n",
    "    \"\"\"Integrate a system of ODE's using the forward Euler method.\n",
    "    \n",
    "    Arguments:\n",
    "    f: a scalar- or vector-valued differential equation in the form y' = f(y, t)\n",
    "    tspan: a tuple of (t0, tf)\n",
    "    x0: the value at the initial time\n",
    "    dt: the time step\n",
    "    \n",
    "    Returns:\n",
    "    A tuple of time steps and corresponding solution vectors.\n",
    "    \n",
    "    Note: this is not necessarily recommended for very large systems.\n",
    "    \"\"\"\n",
    "    t = tspan[0]\n",
    "    y = y0\n",
    "    ts = [tspan[0]] # Might be prudent to pre-allocate these arrays\n",
    "    ys = [y0]\n",
    "    while t < tspan[1]:\n",
    "        y = 0 # ???\n",
    "        t += dt\n",
    "        ts += [t]\n",
    "        ys += [y]\n",
    "    return (ts, ys)"
   ]
  },
  {
   "cell_type": "code",
   "execution_count": null,
   "id": "0cbd75de-73fb-428c-9c9d-f9d366e9f004",
   "metadata": {},
   "outputs": [],
   "source": [
    "# Implement backward Euler method\n",
    "def backward_euler(f, tspan: tuple, x0, dt: float):\n",
    "    \"\"\"Integrate a system of ODE's using the backward Euler method.\n",
    "    \n",
    "    Arguments:\n",
    "    f: a scalar- or vector-valued differential equation in the form y' = f(y, t)\n",
    "    tspan: a tuple of (t0, tf)\n",
    "    x0: the value at the initial time\n",
    "    dt: the time step\n",
    "    \n",
    "    Returns:\n",
    "    A tuple of time steps and corresponding solution vectors.\n",
    "    \n",
    "    Note: this is not necessarily recommended for very large systems.\n",
    "    \"\"\"\n",
    "    t = tspan[0]\n",
    "    y = y0\n",
    "    ts = [tspan[0]] # Might be prudent to pre-allocate these arrays\n",
    "    ys = [y0]\n",
    "    while t < tspan[1]:\n",
    "        y = 0 # ???\n",
    "        # Problem: backward Euler method is implicitly defined\n",
    "        # f(y[n + 1], t[n + 1]) is not known yet\n",
    "        # Try something like root-finding\n",
    "        t += dt\n",
    "        ts += [t]\n",
    "        ys += [y]\n",
    "    return (ts, ys)"
   ]
  },
  {
   "cell_type": "markdown",
   "id": "335f8448-d90a-49ef-b267-4e4aae93332c",
   "metadata": {},
   "source": [
    "## Stability\n",
    "\n",
    "Stability refers to whethter a particular methoud causes the approximate solution to blow up to unrealistically large values. Often a certain range for cobinations of the problem parameters and simulation discretizations has to be satisfied. For example, in fluid mechanics, a common one is the Courant number, which describes how many cells a signal travels across in one time step. In general, and somewhat intuitively, it should be less than 1, but the basis for such rules is in mathematics. In this case, the quantity of interest is the discretization size times the decay parameter, $h \\alpha$. Can you derive why?\n",
    "\n",
    "Solve the model problem on $0 \\leq t \\leq 10$ for $h = 2.5, 2, 1, 0.5$. Plot all of them on the same graph against the analytical solution. What do you observe?"
   ]
  },
  {
   "cell_type": "code",
   "execution_count": null,
   "id": "44d491cc-b937-4f0e-896b-956fa7046e16",
   "metadata": {},
   "outputs": [],
   "source": [
    "# Get solutions\n",
    "hs = [2.5, 2, 1, 0.5]\n",
    "solutions = [] # List of tuples, [(ts1, us1), (ts2, us2), ...]\n",
    "\n",
    "for h in hs:\n",
    "    # Get solution and add to list"
   ]
  },
  {
   "cell_type": "code",
   "execution_count": null,
   "id": "d8c6e02d-2164-40b5-b99b-6343f02acc34",
   "metadata": {},
   "outputs": [],
   "source": [
    "# Plot solutions\n",
    "fig, ax = plt.subplots()\n",
    "# plot analytical solution\n",
    "# for (ts, us) in solutions\n",
    "#     ax.plot(???)\n",
    "ax.set_title('Stability Analysis')\n",
    "ax.set_xlabel('t')\n",
    "ax.set_ylabel('u')\n",
    "ax.legend()\n",
    "plt.show()"
   ]
  },
  {
   "cell_type": "markdown",
   "id": "e2cc8409-5c02-42eb-ab9d-fdf72e1d279a",
   "metadata": {},
   "source": [
    "## Accuracy\n",
    "\n",
    "Accuracy refers to how far off your approximate solution is from the true solution. Of particular interest is how fast the solution converges by improving discretization. Some methods give you more bang for your buck, but tend to involve more computations (flops).\n",
    "\n",
    "Solve the model problem on $0 \\leq t \\leq 10$ for $h = 0.8, 0.4, 0.2, 0.1, 0.05, 0.025, 0.0125, 0.00625, 0.003125$. Compute the absolute value of the error of the solution at $t = 10$, since error accumulates with every discrete step. If the exact solution was not known, you might study instead the relative error between a finer and coarser discretization, or just take a high-resolution solution as the ground truth. Plot these showing that forward and backward Euler methods are bot first-order. Use a log-log plot of inverse time step (number of time points?) against error."
   ]
  },
  {
   "cell_type": "code",
   "execution_count": null,
   "id": "35e46c1b-c954-466c-b1e3-dd1a95fbcca5",
   "metadata": {},
   "outputs": [],
   "source": [
    "# Get solutions\n",
    "hs = [0.8, 0.4, 0.2, 0.1, 0.05, 0.025, 0.0125, 0.00625, 0.003125]\n",
    "solutions = [] # List of tuples, [(ts1, us1), (ts2, us2), ...]\n",
    "\n",
    "for h in hs:\n",
    "    # Get solution and add to list"
   ]
  },
  {
   "cell_type": "code",
   "execution_count": null,
   "id": "c0f22ae8-86b9-4e33-9a69-a63c2dd5579d",
   "metadata": {},
   "outputs": [],
   "source": [
    "# Plot errors\n",
    "fig, ax = plt.subplots()\n",
    "# for (ts, us) in solutions\n",
    "#     compute error\n",
    "# ax.plot(inverse of h, error, ???)\n",
    "hhs = [0.0125, 0.00625, 0.003125]\n",
    "invhhs = [1 / hh for hh in hhs]\n",
    "ax.loglog(invhhs, [0.001 * hh for hh in hhs], label='O(h)')\n",
    "ax.loglog(invhhs, [0.001 * hh**2 for hh in hhs], label='O(h^2)')\n",
    "ax.loglog(invhhs, [0.001 * hh**3 for hh in hhs], label='O(h^3)')\n",
    "ax.set_title('Forward Euler Accuracy\\nAbsolute error at t = 10')\n",
    "ax.set_xlabel('1/h')\n",
    "ax.set_ylabel('error')\n",
    "ax.legend()\n",
    "plt.show()"
   ]
  },
  {
   "cell_type": "code",
   "execution_count": null,
   "id": "9c6ea987-3ed0-41a7-ac8f-04e5f524f281",
   "metadata": {},
   "outputs": [],
   "source": []
  }
 ],
 "metadata": {
  "kernelspec": {
   "display_name": "dirp-env",
   "language": "python",
   "name": "dirp-env"
  },
  "language_info": {
   "codemirror_mode": {
    "name": "ipython",
    "version": 3
   },
   "file_extension": ".py",
   "mimetype": "text/x-python",
   "name": "python",
   "nbconvert_exporter": "python",
   "pygments_lexer": "ipython3",
   "version": "3.13.7"
  }
 },
 "nbformat": 4,
 "nbformat_minor": 5
}
